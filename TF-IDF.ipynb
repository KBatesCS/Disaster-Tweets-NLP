{
 "cells": [
  {
   "cell_type": "markdown",
   "metadata": {},
   "source": [
    "## Term Frequency-Inverse Document Frequency (TF-IDF)"
   ]
  },
  {
   "cell_type": "markdown",
   "metadata": {},
   "source": [
    "TF = count of terms / total count of terms\n",
    "IDF = log (total # of documents / number of documents t is present in)"
   ]
  },
  {
   "cell_type": "code",
   "execution_count": 1,
   "metadata": {},
   "outputs": [],
   "source": [
    "from sklearn.feature_extraction.text import TfidfVectorizer\n",
    "import pandas as pd\n",
    "from sklearn.model_selection import train_test_split\n",
    "from sklearn.pipeline import Pipeline\n",
    "from sklearn.linear_model import LogisticRegression\n",
    "from sklearn.metrics import classification_report\n",
    "from sklearn.ensemble import RandomForestClassifier\n",
    "import spacy"
   ]
  },
  {
   "cell_type": "code",
   "execution_count": 2,
   "metadata": {},
   "outputs": [],
   "source": [
    "df = pd.read_csv(\"train.csv\")\n",
    "nlp = spacy.load(\"en_core_web_sm\")\n",
    "df = df.fillna(\"NA\")"
   ]
  },
  {
   "cell_type": "code",
   "execution_count": 3,
   "metadata": {},
   "outputs": [],
   "source": [
    "Xt = df[['keyword', 'location', 'text']]\n",
    "yt = df['target']\n",
    "X_train, X_test, y_train, y_test = train_test_split(Xt, yt, test_size=0.3)"
   ]
  },
  {
   "cell_type": "code",
   "execution_count": 65,
   "metadata": {},
   "outputs": [
    {
     "name": "stdout",
     "output_type": "stream",
     "text": [
      "                                                   text       location  \\\n",
      "5980  like little boy better sit ass stop screaming ...      nap queen   \n",
      "2350  chance work old FFA foodstand fairgrounds . fi...  Atlantic , IA   \n",
      "5052  @Cali74142290 lol natural disaster / hospital ...         Canada   \n",
      "766   Catfish retweeted & amp ; notifications blew ?...             NA   \n",
      "1648  Petition | Heartless owner whipped horse colla...            USA   \n",
      "\n",
      "                 keyword                                      combined_text  \n",
      "5980           screaming  like little boy better sit ass stop screaming ...  \n",
      "2350          demolition  chance work old FFA foodstand fairgrounds . fi...  \n",
      "5052  natural%20disaster  @Cali74142290 lol natural disaster / hospital ...  \n",
      "766            blew%20up  Catfish retweeted & amp ; notifications blew ?...  \n",
      "1648           collapsed  Petition | Heartless owner whipped horse colla...  \n"
     ]
    },
    {
     "data": {
      "text/html": [
       "<style>#sk-container-id-12 {color: black;background-color: white;}#sk-container-id-12 pre{padding: 0;}#sk-container-id-12 div.sk-toggleable {background-color: white;}#sk-container-id-12 label.sk-toggleable__label {cursor: pointer;display: block;width: 100%;margin-bottom: 0;padding: 0.3em;box-sizing: border-box;text-align: center;}#sk-container-id-12 label.sk-toggleable__label-arrow:before {content: \"▸\";float: left;margin-right: 0.25em;color: #696969;}#sk-container-id-12 label.sk-toggleable__label-arrow:hover:before {color: black;}#sk-container-id-12 div.sk-estimator:hover label.sk-toggleable__label-arrow:before {color: black;}#sk-container-id-12 div.sk-toggleable__content {max-height: 0;max-width: 0;overflow: hidden;text-align: left;background-color: #f0f8ff;}#sk-container-id-12 div.sk-toggleable__content pre {margin: 0.2em;color: black;border-radius: 0.25em;background-color: #f0f8ff;}#sk-container-id-12 input.sk-toggleable__control:checked~div.sk-toggleable__content {max-height: 200px;max-width: 100%;overflow: auto;}#sk-container-id-12 input.sk-toggleable__control:checked~label.sk-toggleable__label-arrow:before {content: \"▾\";}#sk-container-id-12 div.sk-estimator input.sk-toggleable__control:checked~label.sk-toggleable__label {background-color: #d4ebff;}#sk-container-id-12 div.sk-label input.sk-toggleable__control:checked~label.sk-toggleable__label {background-color: #d4ebff;}#sk-container-id-12 input.sk-hidden--visually {border: 0;clip: rect(1px 1px 1px 1px);clip: rect(1px, 1px, 1px, 1px);height: 1px;margin: -1px;overflow: hidden;padding: 0;position: absolute;width: 1px;}#sk-container-id-12 div.sk-estimator {font-family: monospace;background-color: #f0f8ff;border: 1px dotted black;border-radius: 0.25em;box-sizing: border-box;margin-bottom: 0.5em;}#sk-container-id-12 div.sk-estimator:hover {background-color: #d4ebff;}#sk-container-id-12 div.sk-parallel-item::after {content: \"\";width: 100%;border-bottom: 1px solid gray;flex-grow: 1;}#sk-container-id-12 div.sk-label:hover label.sk-toggleable__label {background-color: #d4ebff;}#sk-container-id-12 div.sk-serial::before {content: \"\";position: absolute;border-left: 1px solid gray;box-sizing: border-box;top: 0;bottom: 0;left: 50%;z-index: 0;}#sk-container-id-12 div.sk-serial {display: flex;flex-direction: column;align-items: center;background-color: white;padding-right: 0.2em;padding-left: 0.2em;position: relative;}#sk-container-id-12 div.sk-item {position: relative;z-index: 1;}#sk-container-id-12 div.sk-parallel {display: flex;align-items: stretch;justify-content: center;background-color: white;position: relative;}#sk-container-id-12 div.sk-item::before, #sk-container-id-12 div.sk-parallel-item::before {content: \"\";position: absolute;border-left: 1px solid gray;box-sizing: border-box;top: 0;bottom: 0;left: 50%;z-index: -1;}#sk-container-id-12 div.sk-parallel-item {display: flex;flex-direction: column;z-index: 1;position: relative;background-color: white;}#sk-container-id-12 div.sk-parallel-item:first-child::after {align-self: flex-end;width: 50%;}#sk-container-id-12 div.sk-parallel-item:last-child::after {align-self: flex-start;width: 50%;}#sk-container-id-12 div.sk-parallel-item:only-child::after {width: 0;}#sk-container-id-12 div.sk-dashed-wrapped {border: 1px dashed gray;margin: 0 0.4em 0.5em 0.4em;box-sizing: border-box;padding-bottom: 0.4em;background-color: white;}#sk-container-id-12 div.sk-label label {font-family: monospace;font-weight: bold;display: inline-block;line-height: 1.2em;}#sk-container-id-12 div.sk-label-container {text-align: center;}#sk-container-id-12 div.sk-container {/* jupyter's `normalize.less` sets `[hidden] { display: none; }` but bootstrap.min.css set `[hidden] { display: none !important; }` so we also need the `!important` here to be able to override the default hidden behavior on the sphinx rendered scikit-learn.org. See: https://github.com/scikit-learn/scikit-learn/issues/21755 */display: inline-block !important;position: relative;}#sk-container-id-12 div.sk-text-repr-fallback {display: none;}</style><div id=\"sk-container-id-12\" class=\"sk-top-container\"><div class=\"sk-text-repr-fallback\"><pre>Pipeline(steps=[(&#x27;txt preprocessor&#x27;,\n",
       "                 ColumnTransformer(transformers=[(&#x27;Text&#x27;,\n",
       "                                                  Pipeline(steps=[(&#x27;preprocessor&#x27;,\n",
       "                                                                   textPreprocessor())]),\n",
       "                                                  [&#x27;text&#x27;, &#x27;location&#x27;,\n",
       "                                                   &#x27;keyword&#x27;])])),\n",
       "                (&#x27;rf&#x27;, RandomForestClassifier())])</pre><b>In a Jupyter environment, please rerun this cell to show the HTML representation or trust the notebook. <br />On GitHub, the HTML representation is unable to render, please try loading this page with nbviewer.org.</b></div><div class=\"sk-container\" hidden><div class=\"sk-item sk-dashed-wrapped\"><div class=\"sk-label-container\"><div class=\"sk-label sk-toggleable\"><input class=\"sk-toggleable__control sk-hidden--visually\" id=\"sk-estimator-id-56\" type=\"checkbox\" ><label for=\"sk-estimator-id-56\" class=\"sk-toggleable__label sk-toggleable__label-arrow\">Pipeline</label><div class=\"sk-toggleable__content\"><pre>Pipeline(steps=[(&#x27;txt preprocessor&#x27;,\n",
       "                 ColumnTransformer(transformers=[(&#x27;Text&#x27;,\n",
       "                                                  Pipeline(steps=[(&#x27;preprocessor&#x27;,\n",
       "                                                                   textPreprocessor())]),\n",
       "                                                  [&#x27;text&#x27;, &#x27;location&#x27;,\n",
       "                                                   &#x27;keyword&#x27;])])),\n",
       "                (&#x27;rf&#x27;, RandomForestClassifier())])</pre></div></div></div><div class=\"sk-serial\"><div class=\"sk-item sk-dashed-wrapped\"><div class=\"sk-label-container\"><div class=\"sk-label sk-toggleable\"><input class=\"sk-toggleable__control sk-hidden--visually\" id=\"sk-estimator-id-57\" type=\"checkbox\" ><label for=\"sk-estimator-id-57\" class=\"sk-toggleable__label sk-toggleable__label-arrow\">txt preprocessor: ColumnTransformer</label><div class=\"sk-toggleable__content\"><pre>ColumnTransformer(transformers=[(&#x27;Text&#x27;,\n",
       "                                 Pipeline(steps=[(&#x27;preprocessor&#x27;,\n",
       "                                                  textPreprocessor())]),\n",
       "                                 [&#x27;text&#x27;, &#x27;location&#x27;, &#x27;keyword&#x27;])])</pre></div></div></div><div class=\"sk-parallel\"><div class=\"sk-parallel-item\"><div class=\"sk-item\"><div class=\"sk-label-container\"><div class=\"sk-label sk-toggleable\"><input class=\"sk-toggleable__control sk-hidden--visually\" id=\"sk-estimator-id-58\" type=\"checkbox\" ><label for=\"sk-estimator-id-58\" class=\"sk-toggleable__label sk-toggleable__label-arrow\">Text</label><div class=\"sk-toggleable__content\"><pre>[&#x27;text&#x27;, &#x27;location&#x27;, &#x27;keyword&#x27;]</pre></div></div></div><div class=\"sk-serial\"><div class=\"sk-item\"><div class=\"sk-serial\"><div class=\"sk-item\"><div class=\"sk-estimator sk-toggleable\"><input class=\"sk-toggleable__control sk-hidden--visually\" id=\"sk-estimator-id-59\" type=\"checkbox\" ><label for=\"sk-estimator-id-59\" class=\"sk-toggleable__label sk-toggleable__label-arrow\">textPreprocessor</label><div class=\"sk-toggleable__content\"><pre>textPreprocessor()</pre></div></div></div></div></div></div></div></div></div></div><div class=\"sk-item\"><div class=\"sk-estimator sk-toggleable\"><input class=\"sk-toggleable__control sk-hidden--visually\" id=\"sk-estimator-id-60\" type=\"checkbox\" ><label for=\"sk-estimator-id-60\" class=\"sk-toggleable__label sk-toggleable__label-arrow\">RandomForestClassifier</label><div class=\"sk-toggleable__content\"><pre>RandomForestClassifier()</pre></div></div></div></div></div></div></div>"
      ],
      "text/plain": [
       "Pipeline(steps=[('txt preprocessor',\n",
       "                 ColumnTransformer(transformers=[('Text',\n",
       "                                                  Pipeline(steps=[('preprocessor',\n",
       "                                                                   textPreprocessor())]),\n",
       "                                                  ['text', 'location',\n",
       "                                                   'keyword'])])),\n",
       "                ('rf', RandomForestClassifier())])"
      ]
     },
     "execution_count": 65,
     "metadata": {},
     "output_type": "execute_result"
    }
   ],
   "source": [
    "from sklearn.compose import ColumnTransformer\n",
    "from sklearn.base import BaseEstimator, TransformerMixin\n",
    "\n",
    "class textPreprocessor(BaseEstimator, TransformerMixin):\n",
    "    def __init__(self):\n",
    "        self.tfidf = TfidfVectorizer(ngram_range=(1, 2), max_features=5000)\n",
    "\n",
    "    def fit(self, X, y=None):\n",
    "        X = X.fillna(\"\")\n",
    "        \n",
    "        # Combine text from all columns into one new column\n",
    "        X['combined_text'] = X.apply(lambda row: ' '.join(row.values.astype(str)), axis=1)\n",
    "        \n",
    "        # Fit TF-IDF on the combined column\n",
    "        self.tfidf.fit(X['combined_text'].values)\n",
    "        return self\n",
    "\n",
    "    def transform(self, X):\n",
    "        X = X.fillna(\"\")\n",
    "        \n",
    "        # Combine text from all columns into one new column\n",
    "        for col in X.columns:\n",
    "            X[col] = X[col].apply(self.process_text)\n",
    "        X['combined_text'] = X.apply(lambda row: ' '.join(row.values.astype(str)), axis=1)\n",
    "        print(X.head())\n",
    "        # Apply the already fitted TF-IDF transformation\n",
    "        X_tfidf = self.tfidf.transform(X['combined_text'].values)\n",
    "        \n",
    "        return X_tfidf  # Return the sparse matrix of TF-IDF features\n",
    "\n",
    "    def process_text(self, text):\n",
    "        doc = nlp(text)  # Process the string with the NLP model\n",
    "        no_stop_words = [token.text for token in doc if not token.is_stop]\n",
    "        return \" \".join(no_stop_words)\n",
    "\n",
    "\n",
    "text_transformer = Pipeline(steps=[\n",
    "    ('preprocessor', textPreprocessor())\n",
    "])\n",
    "\n",
    "text_columns = ['text', 'location', 'keyword']  # Ensure this list contains the correct columns\n",
    "preprocessor = ColumnTransformer(\n",
    "    transformers=[\n",
    "        ('Text', text_transformer, text_columns)\n",
    "    ])\n",
    "\n",
    "clf = Pipeline([\n",
    "    ('txt preprocessor', preprocessor),\n",
    "    ('rf', RandomForestClassifier())\n",
    "])\n",
    "\n",
    "# Ensure Xt_transformed and y_train have consistent sample sizes\n",
    "clf.fit(X_train, y_train)  # Ensure X_train contains the correct columns\n"
   ]
  },
  {
   "cell_type": "code",
   "execution_count": 66,
   "metadata": {},
   "outputs": [
    {
     "name": "stdout",
     "output_type": "stream",
     "text": [
      "                                                   text location  \\\n",
      "4821  @noah_anyname concentration camps mass murder ...       NA   \n",
      "6089  @supernovalester feel bad . literally feel fee...       NA   \n",
      "6341  Rightways : Building structural integrity & am...     Asia   \n",
      "4249  @rawfoodbliss middle humid heat wave patch for...       NA   \n",
      "5043  bae soak mudslide backroom ? ? ? ? # thisiswhy...       NA   \n",
      "\n",
      "                   keyword                                      combined_text  \n",
      "4821         mass%20murder  @noah_anyname concentration camps mass murder ...  \n",
      "6089               sinking  @supernovalester feel bad . literally feel fee...  \n",
      "6341  structural%20failure  Rightways : Building structural integrity & am...  \n",
      "4249           heat%20wave  @rawfoodbliss middle humid heat wave patch for...  \n",
      "5043              mudslide  bae soak mudslide backroom ? ? ? ? # thisiswhy...  \n",
      "              precision    recall  f1-score   support\n",
      "\n",
      "           0       0.77      0.90      0.83      1353\n",
      "           1       0.80      0.61      0.69       931\n",
      "\n",
      "    accuracy                           0.78      2284\n",
      "   macro avg       0.79      0.75      0.76      2284\n",
      "weighted avg       0.78      0.78      0.77      2284\n",
      "\n"
     ]
    },
    {
     "ename": "",
     "evalue": "",
     "output_type": "error",
     "traceback": [
      "\u001b[1;31mThe Kernel crashed while executing code in the current cell or a previous cell. \n",
      "\u001b[1;31mPlease review the code in the cell(s) to identify a possible cause of the failure. \n",
      "\u001b[1;31mClick <a href='https://aka.ms/vscodeJupyterKernelCrash'>here</a> for more info. \n",
      "\u001b[1;31mView Jupyter <a href='command:jupyter.viewOutput'>log</a> for further details."
     ]
    }
   ],
   "source": [
    "y_pred = clf.predict(X_test)\n",
    "\n",
    "print(classification_report(y_test, y_pred))"
   ]
  }
 ],
 "metadata": {
  "kernelspec": {
   "display_name": "base",
   "language": "python",
   "name": "python3"
  },
  "language_info": {
   "codemirror_mode": {
    "name": "ipython",
    "version": 3
   },
   "file_extension": ".py",
   "mimetype": "text/x-python",
   "name": "python",
   "nbconvert_exporter": "python",
   "pygments_lexer": "ipython3",
   "version": "3.11.7"
  }
 },
 "nbformat": 4,
 "nbformat_minor": 2
}
